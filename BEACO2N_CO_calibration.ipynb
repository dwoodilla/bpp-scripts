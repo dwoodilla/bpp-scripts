{
 "cells": [
  {
   "cell_type": "markdown",
   "id": "36a35cba-cd58-4f6c-ad54-2007cf300c04",
   "metadata": {},
   "source": [
    "This script calibrates BEACO2N carbon monoxide data using QuantAQ sensors as reference. "
   ]
  },
  {
   "cell_type": "code",
   "execution_count": 20,
   "id": "d0bbdeb7-d592-46dc-814b-2a8dbe61ed36",
   "metadata": {},
   "outputs": [],
   "source": [
    "# %pip install scikit-learn\n",
    "# %pip install matplotlib \n",
    "import os\n",
    "import pandas as pd\n",
    "from datetime import datetime\n",
    "import numpy as np\n",
    "from matplotlib import pyplot as plt\n",
    "# import sklearn\n",
    "from glob import glob"
   ]
  },
  {
   "cell_type": "code",
   "execution_count": null,
   "id": "a152f38b",
   "metadata": {},
   "outputs": [],
   "source": [
    "# Parse the measurement and reference dataframe lists from csv files in project folder.\n",
    "measurement_files = glob(\"./BEACO2N_measurements/*.csv\")\n",
    "measurement = {os.path.splitext(os.path.basename(f))[0] : pd.read_csv(f) for f in measurement_files}\n",
    "reference_files = glob(\"./reference_measurements/*.csv\")\n",
    "reference = {os.path.splitext(os.path.basename(f))[0] : pd.read_csv(f) for f in reference_files}\n",
    "\n",
    "# Clean measurement and reference data.\n",
    "def clean_measurement(df: pd.DataFrame) -> pd.DataFrame :\n",
    "    df = df.rename(columns={\"datetime\":\"timestamp\", \"co2_raw\":\"co2\"})\n",
    "    df[\"timestamp\"] = pd.to_datetime(df[\"timestamp\"], utc=True).dt.round(\"h\")\n",
    "    df = df.drop(columns=[col for col in [\"local_timestamp\", \"epoch\", \"node_file_id\"] if col in df.columns])\n",
    "    wrk_aux_cols = df.filter(regex=r\"_wrk_aux\").columns\n",
    "    df[wrk_aux_cols] *= 1000\n",
    "    df.rename(columns= {col : col.replace(\"_wrk_aux\", \"\") for col in wrk_aux_cols}, inplace=True)\n",
    "    df = df.dropna()\n",
    "    return df\n",
    "\n",
    "measurement = {key: clean_measurement(df) for key, df in measurement.items()}\n",
    "\n",
    "def clean_reference(df: pd.DataFrame) -> pd.DataFrame :\n",
    "    df = df.drop(columns=[col for col in [\"period_start\", \"period_end\", \"period_end_utc\", \"sn\"] if col in df.columns])\n",
    "    df = df.rename(columns={\"period_start_utc\": \"timestamp\", \"pm25\": \"pm2_5\"})\n",
    "    df[\"timestamp\"] = pd.to_datetime(df[\"timestamp\"], utc=True)\n",
    "    df = df.dropna()\n",
    "    return df\n",
    "\n",
    "reference = {key: clean_reference(df) for key, df in reference.items()}\n",
    "\n",
    "# Merge measurement and reference data by site into one list of site dataframes. \n",
    "merged = {key : pd.merge(measurement[key], reference[key], on=\"timestamp\", how=\"inner\", suffixes=(\"_meas\",\"_ref\")).dropna() \n",
    "          for key in reference.keys()}"
   ]
  },
  {
   "cell_type": "markdown",
   "id": "b99064e9",
   "metadata": {},
   "source": [
    "Find time intervals when RSD(co) < .10 for all reference sensors in the network:"
   ]
  },
  {
   "cell_type": "code",
   "execution_count": null,
   "id": "5e6d9fec",
   "metadata": {},
   "outputs": [],
   "source": [
    "co_df = []\n",
    "for site, df in reference.items() :\n",
    "    co_df.append(df[[\"timestamp\",\"co\"]].rename(columns={\"co\":site}))\n",
    "rsd_df = co_df[0]\n",
    "for df in co_df[1:]:\n",
    "    rsd_df = pd.merge(rsd_df, df, on=\"timestamp\", how=\"inner\")\n",
    "\n",
    "def rsd(row:pd.Series) -> float:\n",
    "    vals = row[1:].values.astype(float)\n",
    "    mean = np.mean(vals)\n",
    "    sd = np.std(vals)\n",
    "    return float(sd/mean) if mean != 0 else np.nan\n",
    "\n",
    "rsd_df[\"rsd\"]=rsd_df.apply(rsd, axis=1)\n",
    "timestamps_rsd_lt_10pc = rsd_df[rsd_df[\"rsd\"]<.10][\"timestamp\"]\n",
    "\n",
    "# Filter datasets to include only data contained by intersection(merged, measurement, reference)\n",
    "\n",
    "# Find the common timestamps\n",
    "common_timestamps = timestamps_rsd_lt_10pc\n",
    "for site in measurement:\n",
    "    common_timestamps = common_timestamps[common_timestamps.isin(measurement[site][\"timestamp\"])]\n",
    "for site in reference:\n",
    "    common_timestamps = common_timestamps[common_timestamps.isin(reference[site][\"timestamp\"])]\n",
    "for site in merged:\n",
    "    common_timestamps = common_timestamps[common_timestamps.isin(merged[site][\"timestamp\"])]\n",
    "\n",
    "# Filter dataframes to only include timestamps in timestamps_rsd_lt_10pc\n",
    "for site in measurement.keys():\n",
    "    measurement[site] = measurement[site][measurement[site][\"timestamp\"].isin(common_timestamps)].reset_index(drop=True).sort_values(\"timestamp\")\n",
    "for site in reference.keys():\n",
    "    reference[site] = reference[site][reference[site][\"timestamp\"].isin(common_timestamps)].reset_index(drop=True).sort_values(\"timestamp\")\n",
    "for site in merged.keys():\n",
    "    merged[site] = merged[site][merged[site][\"timestamp\"].isin(common_timestamps)].reset_index(drop=True).sort_values(\"timestamp\")\n",
    "\n",
    "print(\"rsd_df:\\n\", rsd_df.head())\n",
    "print(\"merged:\\n\", {k: v.head() for k, v in merged.items()})\n",
    "print(\"measurement:\\n\", {k: v.head() for k, v in measurement.items()})\n",
    "print(\"reference:\\n\", {k: v.head() for k, v in reference.items()})"
   ]
  },
  {
   "cell_type": "markdown",
   "id": "8490f84e",
   "metadata": {},
   "source": [
    "Fit per-site regression models to the data where RSC(co)<0.10:"
   ]
  },
  {
   "cell_type": "code",
   "execution_count": 49,
   "id": "c5f48ea5",
   "metadata": {},
   "outputs": [
    {
     "name": "stdout",
     "output_type": "stream",
     "text": [
      "pha \tR^2:  0.9816143738945818 \n",
      "\n"
     ]
    },
    {
     "ename": "ValueError",
     "evalue": "Mime type rendering requires nbformat>=4.2.0 but it is not installed",
     "output_type": "error",
     "traceback": [
      "\u001b[31m---------------------------------------------------------------------------\u001b[39m",
      "\u001b[31mValueError\u001b[39m                                Traceback (most recent call last)",
      "\u001b[36mCell\u001b[39m\u001b[36m \u001b[39m\u001b[32mIn[49]\u001b[39m\u001b[32m, line 38\u001b[39m\n\u001b[32m     26\u001b[39m fig = px.scatter(\n\u001b[32m     27\u001b[39m     x=y_test[site],\n\u001b[32m     28\u001b[39m     y=y_pred[site],\n\u001b[32m     29\u001b[39m     labels={\u001b[33m'\u001b[39m\u001b[33mx\u001b[39m\u001b[33m'\u001b[39m:\u001b[33m'\u001b[39m\u001b[33mReference CO (mV)\u001b[39m\u001b[33m'\u001b[39m, \u001b[33m'\u001b[39m\u001b[33my\u001b[39m\u001b[33m'\u001b[39m:\u001b[33m'\u001b[39m\u001b[33mCorrected measured CO (mV)\u001b[39m\u001b[33m'\u001b[39m},\n\u001b[32m     30\u001b[39m     title=\u001b[33mf\u001b[39m\u001b[33m\"\u001b[39m\u001b[33mSite: \u001b[39m\u001b[38;5;132;01m{\u001b[39;00msite\u001b[38;5;132;01m}\u001b[39;00m\u001b[33m\"\u001b[39m\n\u001b[32m     31\u001b[39m )\n\u001b[32m     32\u001b[39m fig.add_shape(\n\u001b[32m     33\u001b[39m     \u001b[38;5;28mtype\u001b[39m=\u001b[33m'\u001b[39m\u001b[33mline\u001b[39m\u001b[33m'\u001b[39m,\n\u001b[32m     34\u001b[39m     x0=\u001b[38;5;28mmin\u001b[39m(y_test[site]), y0=\u001b[38;5;28mmin\u001b[39m(y_test[site]),\n\u001b[32m     35\u001b[39m     x1=\u001b[38;5;28mmax\u001b[39m(y_test[site]), y1=\u001b[38;5;28mmax\u001b[39m(y_test[site]),\n\u001b[32m     36\u001b[39m     line=\u001b[38;5;28mdict\u001b[39m(color=\u001b[33m'\u001b[39m\u001b[33mred\u001b[39m\u001b[33m'\u001b[39m, dash=\u001b[33m'\u001b[39m\u001b[33mdash\u001b[39m\u001b[33m'\u001b[39m)\n\u001b[32m     37\u001b[39m )\n\u001b[32m---> \u001b[39m\u001b[32m38\u001b[39m \u001b[43mfig\u001b[49m\u001b[43m.\u001b[49m\u001b[43mshow\u001b[49m\u001b[43m(\u001b[49m\u001b[43m)\u001b[49m\n",
      "\u001b[36mFile \u001b[39m\u001b[32m/opt/miniconda3/lib/python3.13/site-packages/plotly/basedatatypes.py:3436\u001b[39m, in \u001b[36mBaseFigure.show\u001b[39m\u001b[34m(self, *args, **kwargs)\u001b[39m\n\u001b[32m   3403\u001b[39m \u001b[38;5;250m\u001b[39m\u001b[33;03m\"\"\"\u001b[39;00m\n\u001b[32m   3404\u001b[39m \u001b[33;03mShow a figure using either the default renderer(s) or the renderer(s)\u001b[39;00m\n\u001b[32m   3405\u001b[39m \u001b[33;03mspecified by the renderer argument\u001b[39;00m\n\u001b[32m   (...)\u001b[39m\u001b[32m   3432\u001b[39m \u001b[33;03mNone\u001b[39;00m\n\u001b[32m   3433\u001b[39m \u001b[33;03m\"\"\"\u001b[39;00m\n\u001b[32m   3434\u001b[39m \u001b[38;5;28;01mimport\u001b[39;00m\u001b[38;5;250m \u001b[39m\u001b[34;01mplotly\u001b[39;00m\u001b[34;01m.\u001b[39;00m\u001b[34;01mio\u001b[39;00m\u001b[38;5;250m \u001b[39m\u001b[38;5;28;01mas\u001b[39;00m\u001b[38;5;250m \u001b[39m\u001b[34;01mpio\u001b[39;00m\n\u001b[32m-> \u001b[39m\u001b[32m3436\u001b[39m \u001b[38;5;28;01mreturn\u001b[39;00m \u001b[43mpio\u001b[49m\u001b[43m.\u001b[49m\u001b[43mshow\u001b[49m\u001b[43m(\u001b[49m\u001b[38;5;28;43mself\u001b[39;49m\u001b[43m,\u001b[49m\u001b[43m \u001b[49m\u001b[43m*\u001b[49m\u001b[43margs\u001b[49m\u001b[43m,\u001b[49m\u001b[43m \u001b[49m\u001b[43m*\u001b[49m\u001b[43m*\u001b[49m\u001b[43mkwargs\u001b[49m\u001b[43m)\u001b[49m\n",
      "\u001b[36mFile \u001b[39m\u001b[32m/opt/miniconda3/lib/python3.13/site-packages/plotly/io/_renderers.py:425\u001b[39m, in \u001b[36mshow\u001b[39m\u001b[34m(fig, renderer, validate, **kwargs)\u001b[39m\n\u001b[32m    420\u001b[39m     \u001b[38;5;28;01mraise\u001b[39;00m \u001b[38;5;167;01mValueError\u001b[39;00m(\n\u001b[32m    421\u001b[39m         \u001b[33m\"\u001b[39m\u001b[33mMime type rendering requires ipython but it is not installed\u001b[39m\u001b[33m\"\u001b[39m\n\u001b[32m    422\u001b[39m     )\n\u001b[32m    424\u001b[39m \u001b[38;5;28;01mif\u001b[39;00m \u001b[38;5;129;01mnot\u001b[39;00m nbformat \u001b[38;5;129;01mor\u001b[39;00m Version(nbformat.__version__) < Version(\u001b[33m\"\u001b[39m\u001b[33m4.2.0\u001b[39m\u001b[33m\"\u001b[39m):\n\u001b[32m--> \u001b[39m\u001b[32m425\u001b[39m     \u001b[38;5;28;01mraise\u001b[39;00m \u001b[38;5;167;01mValueError\u001b[39;00m(\n\u001b[32m    426\u001b[39m         \u001b[33m\"\u001b[39m\u001b[33mMime type rendering requires nbformat>=4.2.0 but it is not installed\u001b[39m\u001b[33m\"\u001b[39m\n\u001b[32m    427\u001b[39m     )\n\u001b[32m    429\u001b[39m display_jupyter_version_warnings()\n\u001b[32m    431\u001b[39m ipython_display.display(bundle, raw=\u001b[38;5;28;01mTrue\u001b[39;00m)\n",
      "\u001b[31mValueError\u001b[39m: Mime type rendering requires nbformat>=4.2.0 but it is not installed"
     ]
    }
   ],
   "source": [
    "# Fit basic polynomial models only for the colocated BEACO2N nodes\n",
    "# %pip install plotly.express\n",
    "# !pip install nbformat\n",
    "refsites = list(reference.keys())\n",
    "from sklearn.linear_model import LinearRegression\n",
    "from sklearn.model_selection import train_test_split\n",
    "import plotly.express as px\n",
    "models = {}\n",
    "x_train = {}\n",
    "x_test = {}\n",
    "y_train = {}\n",
    "y_test = {}\n",
    "y_pred = {}\n",
    "\n",
    "for i, site in enumerate(refsites):\n",
    "    x_train_i, x_test_i, y_train_i, y_test_i = train_test_split(measurement[site].drop(\"timestamp\", axis=1), reference[site][\"co\"], random_state=42)\n",
    "    x_train[site] = x_train_i\n",
    "    x_test[site] = x_test_i\n",
    "    y_train[site] = y_train_i\n",
    "    y_test[site] = y_test_i\n",
    "    models[site] = LinearRegression()\n",
    "    models[site].fit(x_train[site], y_train[site])\n",
    "    y_pred[site] = models[site].predict(x_test[site])\n",
    "    print(site, \"\\tR^2: \", models[site].score(x_test[site], y_test[site]), '\\n')\n",
    "    \n",
    "    fig = px.scatter(\n",
    "        x=y_test[site],\n",
    "        y=y_pred[site],\n",
    "        labels={'x':'Reference CO (mV)', 'y':'Corrected measured CO (mV)'},\n",
    "        title=f\"Site: {site}\"\n",
    "    )\n",
    "    fig.add_shape(\n",
    "        type='line',\n",
    "        x0=min(y_test[site]), y0=min(y_test[site]),\n",
    "        x1=max(y_test[site]), y1=max(y_test[site]),\n",
    "        line=dict(color='red', dash='dash')\n",
    "    )\n",
    "    fig.show()"
   ]
  }
 ],
 "metadata": {
  "kernelspec": {
   "display_name": "base",
   "language": "python",
   "name": "python3"
  },
  "language_info": {
   "codemirror_mode": {
    "name": "ipython",
    "version": 3
   },
   "file_extension": ".py",
   "mimetype": "text/x-python",
   "name": "python",
   "nbconvert_exporter": "python",
   "pygments_lexer": "ipython3",
   "version": "3.13.2"
  }
 },
 "nbformat": 4,
 "nbformat_minor": 5
}
