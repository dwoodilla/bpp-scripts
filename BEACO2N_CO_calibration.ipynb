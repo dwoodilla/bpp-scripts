{
 "cells": [
  {
   "cell_type": "markdown",
   "id": "36a35cba-cd58-4f6c-ad54-2007cf300c04",
   "metadata": {},
   "source": [
    "This script calibrates BEACO2N carbon monoxide data using QuantAQ sensors as reference. "
   ]
  },
  {
   "cell_type": "code",
   "execution_count": null,
   "id": "d0bbdeb7-d592-46dc-814b-2a8dbe61ed36",
   "metadata": {},
   "outputs": [],
   "source": [
    "# %pip install scikit-learn\n",
    "import os\n",
    "import pandas as pd\n",
    "from datetime import datetime\n",
    "import numpy as np\n",
    "# import sklearn\n",
    "from glob import glob"
   ]
  },
  {
   "cell_type": "code",
   "execution_count": 5,
   "id": "a152f38b",
   "metadata": {},
   "outputs": [],
   "source": [
    "# Parse the measurement and reference dataframe lists from csv files in project folder.\n",
    "measurement_files = glob(\"./BEACO2N_measurements/*.csv\")\n",
    "measurement = {os.path.splitext(os.path.basename(f))[0] : pd.read_csv(f) for f in measurement_files}\n",
    "reference_files = glob(\"./reference_measurements/*.csv\")\n",
    "reference = {os.path.splitext(os.path.basename(f))[0] : pd.read_csv(f) for f in reference_files}\n",
    "\n",
    "# Clean measurement and reference data.\n",
    "def clean_measurement(df: pd.DataFrame) -> pd.DataFrame :\n",
    "    df = df.rename(columns={\"datetime\":\"timestamp\", \"co2_raw\":\"co2\"})\n",
    "    df[\"timestamp\"] = pd.to_datetime(df[\"timestamp\"], utc=True).dt.round(\"h\")\n",
    "    df = df.drop(columns=[col for col in [\"local_timestamp\", \"epoch\", \"node_file_id\"] if col in df.columns])\n",
    "    wrk_aux_cols = df.filter(regex=r\"_wrk_aux\").columns\n",
    "    df[wrk_aux_cols] *= 1000\n",
    "    df.rename(columns= {col : col.replace(\"_wrk_aux\", \"\") for col in wrk_aux_cols}, inplace=True)\n",
    "    df = df.dropna()\n",
    "    return df\n",
    "\n",
    "measurement = {key: clean_measurement(df) for key, df in measurement.items()}\n",
    "\n",
    "def clean_reference(df: pd.DataFrame) -> pd.DataFrame :\n",
    "    df = df.drop(columns=[col for col in [\"period_start\", \"period_end\", \"period_end_utc\", \"sn\"] if col in df.columns])\n",
    "    df = df.rename(columns={\"period_start_utc\": \"timestamp\", \"pm25\": \"pm2_5\"})\n",
    "    df[\"timestamp\"] = pd.to_datetime(df[\"timestamp\"], utc=True)\n",
    "    df = df.dropna()\n",
    "    return df\n",
    "\n",
    "reference = {key: clean_reference(df) for key, df in reference.items()}\n",
    "\n",
    "# Merge measurement and reference data by site into one list of site dataframes. \n",
    "merged = {key : pd.merge(measurement[key], reference[key], on=\"timestamp\", how=\"inner\", suffixes=(\"_meas\",\"_ref\")).dropna() \n",
    "          for key in reference.keys()}\n",
    "\n",
    "# for site, df in measurement.items():\n",
    "#     print(f\"Site: {site}\")\n",
    "#     display(df)"
   ]
  },
  {
   "cell_type": "markdown",
   "id": "b99064e9",
   "metadata": {},
   "source": [
    "Find time intervals when RSD(co) < .10 for all reference sensors in the network:"
   ]
  },
  {
   "cell_type": "code",
   "execution_count": null,
   "id": "5e6d9fec",
   "metadata": {},
   "outputs": [],
   "source": [
    "co_data = []\n",
    "for site, df in reference.items() :\n",
    "    co_data.append(df[[\"timestamp\",\"co\"]].rename(columns={\"co\":site}))\n",
    "rsd_df = co_data[0]\n",
    "for df in co_data[1:]:\n",
    "    rsd_df = pd.merge(rsd_df, df, on=\"timestamp\", how=\"inner\")\n",
    "\n",
    "def rsd(row:pd.Series) -> float:\n",
    "    vals = row[1:].values.astype(float)\n",
    "    mean = np.mean(vals)\n",
    "    sd = np.std(vals)\n",
    "    return float(sd/mean) if mean != 0 else np.nan\n",
    "\n",
    "rsd_df[\"rsd\"]=rsd_df.apply(rsd, axis=1)\n",
    "timestamps_rsd_lt_10pc = rsd_df[rsd_df[\"rsd\"]<.10][\"timestamp\"]\n",
    "\n",
    "merged = {\n",
    "    k :\n",
    "    df[df[\"timestamp\"].isin(timestamps_rsd_lt_10pc)].dropna()\n",
    "    for k, df in merged.items()\n",
    "}\n",
    "measurement = {\n",
    "    k :\n",
    "    df[df[\"timestamp\"].isin(timestamps_rsd_lt_10pc)].dropna()\n",
    "    for k, df in measurement.items()\n",
    "}\n",
    "reference = {\n",
    "   k :\n",
    "   df[df[\"timestamp\"].isin(timestamps_rsd_lt_10pc)].dropna()\n",
    "   for k, df in reference.items()\n",
    "}\n",
    "\n",
    "print(\"rsd_df:\\n\", rsd_df.head())\n",
    "print(\"merged:\\n\", {k: v.head() for k, v in merged.items()})\n",
    "print(\"measurement:\\n\", {k: v.head() for k, v in measurement.items()})\n",
    "print(\"reference:\\n\", {k: v.head() for k, v in reference.items()})\n"
   ]
  },
  {
   "cell_type": "markdown",
   "id": "8490f84e",
   "metadata": {},
   "source": [
    "Fit a regression model to the uniform data:"
   ]
  },
  {
   "cell_type": "code",
   "execution_count": null,
   "id": "c5f48ea5",
   "metadata": {},
   "outputs": [],
   "source": [
    "# measurement = measurement[measurement[\"timestamp\"].isin(timestamps_rsd_lt_10pc)]\n",
    "refsites = list(reference.keys())\n",
    "from sklearn import linear_model\n",
    "\n",
    "models = {\n",
    "    site : linear_model.LinearRegression()\n",
    "    for site in refsites\n",
    "}\n",
    "for site, model in models.items():\n",
    "    model.fit()"
   ]
  }
 ],
 "metadata": {
  "kernelspec": {
   "display_name": "base",
   "language": "python",
   "name": "python3"
  },
  "language_info": {
   "codemirror_mode": {
    "name": "ipython",
    "version": 3
   },
   "file_extension": ".py",
   "mimetype": "text/x-python",
   "name": "python",
   "nbconvert_exporter": "python",
   "pygments_lexer": "ipython3",
   "version": "3.13.2"
  }
 },
 "nbformat": 4,
 "nbformat_minor": 5
}
