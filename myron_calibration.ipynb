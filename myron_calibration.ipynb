{
 "cells": [
  {
   "cell_type": "code",
   "execution_count": null,
   "id": "13d80e0b",
   "metadata": {},
   "outputs": [],
   "source": [
    "# TODO: Merge these imports into the cells where they are used. \n",
    "# %pip install scikit-learn\n",
    "# %pip install numpy\n",
    "# %pip install pandas\n",
    "# %pip install pyaqsapi\n",
    "# %pip install certifi\n",
    "# %pip install requests\n",
    "# import os\n",
    "# from glob import glob\n",
    "import pandas as pd\n",
    "import numpy as np\n",
    "from sklearn.linear_model import LinearRegression\n",
    "from sklearn.model_selection import train_test_split\n",
    "# import typing as t\n",
    "# import pyaqsapi as aqs\n",
    "# from datetime import date\n",
    "# from functools import reduce"
   ]
  },
  {
   "cell_type": "code",
   "execution_count": 7,
   "id": "9bc4bf13",
   "metadata": {},
   "outputs": [],
   "source": [
    "beaco2n_df = pd.read_csv(\"./BEACO2N_measurements/myron.csv\")\n",
    "aqs_df = pd.read_csv(\"./reference_measurements/aqs_myron.csv\")\n",
    "\n",
    "\n",
    "def clean_BEACO2N(df: pd.DataFrame) -> pd.DataFrame :\n",
    "    # Store time in Pandas datetime format.\n",
    "    df.rename(columns={\"datetime\":\"timestamp\", \"co2_raw\":\"co2\"}, inplace=True)\n",
    "    df[\"timestamp\"] = pd.to_datetime(df[\"timestamp\"], utc=True).dt.round(\"h\")\n",
    "\n",
    "    # Drop redundant time columns\n",
    "    df.drop(columns=[\"local_timestamp\", \"epoch\", \"node_file_id\", \"node_id\"], inplace=True)\n",
    "    \n",
    "    # For all columns suffixed by \"_wrk_aux\", convert from Volts to milliVolts (*1000) and remove suffix\n",
    "    wrk_aux_cols = df.filter(regex=r\"_wrk_aux$\").columns\n",
    "    df[wrk_aux_cols] *= 1000\n",
    "    df.rename(columns= {col : col.replace(\"_wrk_aux\", \"\") for col in wrk_aux_cols}, inplace=True)\n",
    "    \n",
    "    # Drop all datapoints with incomplete data (e.g. missing co measurement)\n",
    "    df.dropna(inplace=True)\n",
    "    df.set_index(\"timestamp\")\n",
    "    return df\n",
    "\n",
    "def clean_aqs(df: pd.DataFrame) -> pd.DataFrame :\n",
    "    df.rename(columns={\"sample_measurement\" : \"co\"}, inplace=True)\n",
    "    df[\"timestamp\"] = df[\"date_gmt\"] + ' ' + df[\"time_gmt\"]\n",
    "    df[\"timestamp\"] = pd.to_datetime(df[\"timestamp\"], utc=True) # should already be hourly, don't need to round.\n",
    "    df.drop(columns=[col for col in df.columns if col not in [\"co\", \"timestamp\"]], inplace=True)\n",
    "    df = df[[\"timestamp\", \"co\"]]\n",
    "\n",
    "    df.dropna(inplace=True)\n",
    "    df.set_index(\"timestamp\")\n",
    "    return df\n",
    "\n",
    "beaco2n_df = clean_BEACO2N(beaco2n_df)\n",
    "beaco2n_df.drop(columns=[col for col in beaco2n_df.columns if col not in [\"timestamp\", \"co\", \"temp\", \"rh\"]], inplace=True)\n",
    "aqs_df = clean_aqs(aqs_df)"
   ]
  },
  {
   "cell_type": "code",
   "execution_count": null,
   "id": "ada11168",
   "metadata": {},
   "outputs": [
    {
     "data": {
      "application/vnd.microsoft.datawrangler.viewer.v0+json": {
       "columns": [
        {
         "name": "timestamp",
         "rawType": "datetime64[ns, UTC]",
         "type": "unknown"
        },
        {
         "name": "co_meas",
         "rawType": "float64",
         "type": "float"
        },
        {
         "name": "temp",
         "rawType": "float64",
         "type": "float"
        },
        {
         "name": "rh",
         "rawType": "float64",
         "type": "float"
        },
        {
         "name": "co_aqs",
         "rawType": "float64",
         "type": "float"
        }
       ],
       "ref": "cb85489f-a428-47b5-96c0-be8ca1c2c594",
       "rows": [
        [
         "2022-07-11 11:00:00+00:00",
         "91.65366666666661",
         "26.1665765",
         "35.90602483333333",
         "0.15"
        ],
        [
         "2022-07-11 12:00:00+00:00",
         "79.8929999999999",
         "26.120612666666663",
         "35.86984983333333",
         "0.136"
        ],
        [
         "2022-07-11 14:00:00+00:00",
         "167.64000000000001",
         "33.76",
         "27.94856",
         "0.118"
        ],
        [
         "2022-07-11 15:00:00+00:00",
         "37.9908333333333",
         "36.148002",
         "24.725004833333333",
         "0.108"
        ],
        [
         "2022-07-11 16:00:00+00:00",
         "36.463898305084705",
         "37.32583152542373",
         "22.972613389830503",
         "0.104"
        ],
        [
         "2022-07-11 17:00:00+00:00",
         "42.266999999999996",
         "37.800482333333335",
         "22.081028333333332",
         "0.102"
        ],
        [
         "2022-07-11 18:00:00+00:00",
         "64.663",
         "37.33739633333333",
         "22.456905833333337",
         "0.102"
        ],
        [
         "2022-07-11 19:00:00+00:00",
         "74.957",
         "38.58111383333333",
         "23.382989666666667",
         "0.101"
        ],
        [
         "2022-07-11 20:00:00+00:00",
         "78.2596666666667",
         "38.11025033333333",
         "23.3799575",
         "0.096"
        ],
        [
         "2022-07-11 21:00:00+00:00",
         "66.4665",
         "38.012427333333335",
         "22.530916166666668",
         "0.081"
        ],
        [
         "2022-07-11 22:00:00+00:00",
         "82.8276666666666",
         "36.7122955",
         "24.332106333333332",
         "0.09"
        ],
        [
         "2022-07-11 23:00:00+00:00",
         "109.8208333333333",
         "32.655240166666665",
         "30.463851833333333",
         "0.122"
        ],
        [
         "2022-07-12 00:00:00+00:00",
         "130.6975",
         "26.618251166666667",
         "44.0840905",
         "0.099"
        ],
        [
         "2022-07-12 01:00:00+00:00",
         "117.0716666666666",
         "24.3483655",
         "51.598434",
         "0.082"
        ],
        [
         "2022-07-12 02:00:00+00:00",
         "97.7473333333333",
         "23.623025",
         "54.751073",
         "0.101"
        ],
        [
         "2022-07-12 03:00:00+00:00",
         "82.83199999999991",
         "23.260875333333335",
         "56.89464616666667",
         "0.08"
        ],
        [
         "2022-07-12 04:00:00+00:00",
         "72.8425",
         "22.856667",
         "59.906386",
         "0.078"
        ],
        [
         "2022-07-12 05:00:00+00:00",
         "65.3656666666666",
         "22.535174833333333",
         "61.708707",
         "0.128"
        ],
        [
         "2022-07-12 06:00:00+00:00",
         "59.1963333333332",
         "22.378265333333335",
         "62.72105066666666",
         "0.129"
        ],
        [
         "2022-07-12 07:00:00+00:00",
         "53.4998333333333",
         "22.2229595",
         "64.13142266666667",
         "0.146"
        ],
        [
         "2022-07-12 08:00:00+00:00",
         "51.521499999999904",
         "22.066598",
         "66.254062",
         "0.127"
        ],
        [
         "2022-07-12 09:00:00+00:00",
         "54.8788333333333",
         "22.1389265",
         "67.45312833333334",
         "0.118"
        ],
        [
         "2022-07-12 10:00:00+00:00",
         "63.6071666666666",
         "23.445962166666668",
         "64.2134955",
         "0.128"
        ],
        [
         "2022-07-12 11:00:00+00:00",
         "64.78933333333329",
         "26.592937833333337",
         "54.5977305",
         "0.126"
        ],
        [
         "2022-07-12 12:00:00+00:00",
         "16.2366666666666",
         "33.987509333333335",
         "34.580319",
         "0.11"
        ],
        [
         "2022-07-12 13:00:00+00:00",
         "-0.6536666666666",
         "37.063595666666664",
         "27.887331833333334",
         "0.107"
        ],
        [
         "2022-07-12 14:00:00+00:00",
         "7.749833333333299",
         "38.874917333333336",
         "25.448819666666665",
         "0.112"
        ],
        [
         "2022-07-12 15:00:00+00:00",
         "32.2096666666666",
         "39.51739583333333",
         "24.954132333333337",
         "0.106"
        ],
        [
         "2022-07-12 16:00:00+00:00",
         "56.3761016949152",
         "39.74784305084746",
         "26.820986779661016",
         "0.119"
        ],
        [
         "2022-07-12 17:00:00+00:00",
         "67.2643333333333",
         "39.618322166666665",
         "28.164442833333332",
         "0.146"
        ],
        [
         "2022-07-12 18:00:00+00:00",
         "80.2594999999999",
         "38.82533466666666",
         "29.560040333333333",
         "0.16"
        ],
        [
         "2022-07-12 19:00:00+00:00",
         "84.965",
         "38.13355516666667",
         "29.78911816666667",
         "0.143"
        ],
        [
         "2022-07-12 20:00:00+00:00",
         "77.79566666666669",
         "38.7868715",
         "28.735772833333332",
         "0.15"
        ],
        [
         "2022-07-12 21:00:00+00:00",
         "88.7313333333333",
         "38.23338866666666",
         "30.639207666666668",
         "0.146"
        ],
        [
         "2022-07-12 22:00:00+00:00",
         "112.17333333333319",
         "35.3859395",
         "36.91273316666667",
         "0.155"
        ],
        [
         "2022-07-12 23:00:00+00:00",
         "146.8476666666666",
         "30.078576833333333",
         "50.623499333333335",
         "0.161"
        ],
        [
         "2022-07-13 00:00:00+00:00",
         "141.84949999999998",
         "28.540265",
         "57.0360895",
         "0.133"
        ],
        [
         "2022-07-13 01:00:00+00:00",
         "117.37100000000001",
         "25.700518833333337",
         "68.18755733333333",
         "0.148"
        ],
        [
         "2022-07-13 02:00:00+00:00",
         "127.854",
         "25.18843783333333",
         "71.17505799999999",
         "0.144"
        ],
        [
         "2022-07-13 03:00:00+00:00",
         "121.4103333333334",
         "25.387577333333333",
         "68.56203966666666",
         "0.143"
        ],
        [
         "2022-07-13 04:00:00+00:00",
         "123.3834999999999",
         "25.121400833333333",
         "72.55851016666666",
         "0.121"
        ],
        [
         "2022-07-13 05:00:00+00:00",
         "81.8701666666666",
         "25.320251666666667",
         "73.0329735",
         "0.102"
        ],
        [
         "2022-07-13 06:00:00+00:00",
         "80.2038333333333",
         "25.350103",
         "72.72816683333333",
         "0.156"
        ],
        [
         "2022-07-13 07:00:00+00:00",
         "82.0373333333333",
         "25.344920833333333",
         "72.3098805",
         "0.141"
        ],
        [
         "2022-07-13 08:00:00+00:00",
         "75.04183333333329",
         "24.794616333333337",
         "72.98064966666666",
         "0.116"
        ],
        [
         "2022-07-13 09:00:00+00:00",
         "84.8009999999999",
         "24.326929833333335",
         "73.78589766666667",
         "0.054"
        ],
        [
         "2022-07-13 10:00:00+00:00",
         "82.2188333333334",
         "25.3868595",
         "65.549921",
         "0.062"
        ],
        [
         "2022-07-13 11:00:00+00:00",
         "61.0053333333333",
         "28.427703",
         "52.21550666666667",
         "0.235"
        ],
        [
         "2022-07-13 12:00:00+00:00",
         "23.4174999999999",
         "33.6556715",
         "37.33020666666667",
         "0.243"
        ],
        [
         "2022-07-13 13:00:00+00:00",
         "-1.6318333333333",
         "37.00958716666667",
         "29.577688833333333",
         "0.242"
        ]
       ],
       "shape": {
        "columns": 4,
        "rows": 14045
       }
      },
      "text/html": [
       "<div>\n",
       "<style scoped>\n",
       "    .dataframe tbody tr th:only-of-type {\n",
       "        vertical-align: middle;\n",
       "    }\n",
       "\n",
       "    .dataframe tbody tr th {\n",
       "        vertical-align: top;\n",
       "    }\n",
       "\n",
       "    .dataframe thead th {\n",
       "        text-align: right;\n",
       "    }\n",
       "</style>\n",
       "<table border=\"1\" class=\"dataframe\">\n",
       "  <thead>\n",
       "    <tr style=\"text-align: right;\">\n",
       "      <th></th>\n",
       "      <th>co_meas</th>\n",
       "      <th>temp</th>\n",
       "      <th>rh</th>\n",
       "      <th>co_aqs</th>\n",
       "    </tr>\n",
       "    <tr>\n",
       "      <th>timestamp</th>\n",
       "      <th></th>\n",
       "      <th></th>\n",
       "      <th></th>\n",
       "      <th></th>\n",
       "    </tr>\n",
       "  </thead>\n",
       "  <tbody>\n",
       "    <tr>\n",
       "      <th>2022-07-11 11:00:00+00:00</th>\n",
       "      <td>91.653667</td>\n",
       "      <td>26.166577</td>\n",
       "      <td>35.906025</td>\n",
       "      <td>0.150</td>\n",
       "    </tr>\n",
       "    <tr>\n",
       "      <th>2022-07-11 12:00:00+00:00</th>\n",
       "      <td>79.893000</td>\n",
       "      <td>26.120613</td>\n",
       "      <td>35.869850</td>\n",
       "      <td>0.136</td>\n",
       "    </tr>\n",
       "    <tr>\n",
       "      <th>2022-07-11 14:00:00+00:00</th>\n",
       "      <td>167.640000</td>\n",
       "      <td>33.760000</td>\n",
       "      <td>27.948560</td>\n",
       "      <td>0.118</td>\n",
       "    </tr>\n",
       "    <tr>\n",
       "      <th>2022-07-11 15:00:00+00:00</th>\n",
       "      <td>37.990833</td>\n",
       "      <td>36.148002</td>\n",
       "      <td>24.725005</td>\n",
       "      <td>0.108</td>\n",
       "    </tr>\n",
       "    <tr>\n",
       "      <th>2022-07-11 16:00:00+00:00</th>\n",
       "      <td>36.463898</td>\n",
       "      <td>37.325832</td>\n",
       "      <td>22.972613</td>\n",
       "      <td>0.104</td>\n",
       "    </tr>\n",
       "    <tr>\n",
       "      <th>...</th>\n",
       "      <td>...</td>\n",
       "      <td>...</td>\n",
       "      <td>...</td>\n",
       "      <td>...</td>\n",
       "    </tr>\n",
       "    <tr>\n",
       "      <th>2024-04-15 08:00:00+00:00</th>\n",
       "      <td>101.585667</td>\n",
       "      <td>10.020579</td>\n",
       "      <td>69.764033</td>\n",
       "      <td>0.275</td>\n",
       "    </tr>\n",
       "    <tr>\n",
       "      <th>2024-04-15 09:00:00+00:00</th>\n",
       "      <td>83.466000</td>\n",
       "      <td>11.097170</td>\n",
       "      <td>67.820054</td>\n",
       "      <td>0.240</td>\n",
       "    </tr>\n",
       "    <tr>\n",
       "      <th>2024-04-15 10:00:00+00:00</th>\n",
       "      <td>88.286667</td>\n",
       "      <td>11.293701</td>\n",
       "      <td>67.534301</td>\n",
       "      <td>0.253</td>\n",
       "    </tr>\n",
       "    <tr>\n",
       "      <th>2024-04-15 11:00:00+00:00</th>\n",
       "      <td>141.170500</td>\n",
       "      <td>12.879459</td>\n",
       "      <td>63.307130</td>\n",
       "      <td>0.359</td>\n",
       "    </tr>\n",
       "    <tr>\n",
       "      <th>2024-04-15 12:00:00+00:00</th>\n",
       "      <td>117.914167</td>\n",
       "      <td>17.450484</td>\n",
       "      <td>50.977028</td>\n",
       "      <td>0.300</td>\n",
       "    </tr>\n",
       "  </tbody>\n",
       "</table>\n",
       "<p>14045 rows × 4 columns</p>\n",
       "</div>"
      ],
      "text/plain": [
       "                              co_meas       temp         rh  co_aqs\n",
       "timestamp                                                          \n",
       "2022-07-11 11:00:00+00:00   91.653667  26.166577  35.906025   0.150\n",
       "2022-07-11 12:00:00+00:00   79.893000  26.120613  35.869850   0.136\n",
       "2022-07-11 14:00:00+00:00  167.640000  33.760000  27.948560   0.118\n",
       "2022-07-11 15:00:00+00:00   37.990833  36.148002  24.725005   0.108\n",
       "2022-07-11 16:00:00+00:00   36.463898  37.325832  22.972613   0.104\n",
       "...                               ...        ...        ...     ...\n",
       "2024-04-15 08:00:00+00:00  101.585667  10.020579  69.764033   0.275\n",
       "2024-04-15 09:00:00+00:00   83.466000  11.097170  67.820054   0.240\n",
       "2024-04-15 10:00:00+00:00   88.286667  11.293701  67.534301   0.253\n",
       "2024-04-15 11:00:00+00:00  141.170500  12.879459  63.307130   0.359\n",
       "2024-04-15 12:00:00+00:00  117.914167  17.450484  50.977028   0.300\n",
       "\n",
       "[14045 rows x 4 columns]"
      ]
     },
     "metadata": {},
     "output_type": "display_data"
    }
   ],
   "source": [
    "merged_df = pd.merge(beaco2n_df, aqs_df, how='inner', on='timestamp', suffixes=[\"_meas\", \"_aqs\"]).set_index(\"timestamp\")\n",
    "# display(merged_df)"
   ]
  },
  {
   "cell_type": "markdown",
   "id": "1dafa2b6",
   "metadata": {},
   "source": [
    "NOTE: I am assuming the conversion between BEACO2N output and RIDEM output is a coefficient. If the terms are non-linear then this method will not work accurately. "
   ]
  },
  {
   "cell_type": "code",
   "execution_count": null,
   "id": "48231259",
   "metadata": {},
   "outputs": [],
   "source": [
    "model = LinearRegression()\n",
    "y_train, y_test, X_train, X_test = train_test_split(merged_df['co_aqs'], merged_df[['co_meas','temp','rh']], random_state=0)\n",
    "model.fit(X_train, y_train)\n",
    "y_pred = model.predict(X_test)"
   ]
  },
  {
   "cell_type": "code",
   "execution_count": null,
   "id": "230d196c",
   "metadata": {},
   "outputs": [
    {
     "data": {
      "image/png": "[encoded data removed]",
      "text/plain": [
       "<Figure size 640x480 with 1 Axes>"
      ]
     },
     "metadata": {},
     "output_type": "display_data"
    },
    {
     "data": {
      "application/vnd.microsoft.datawrangler.viewer.v0+json": {
       "columns": [
        {
         "name": "index",
         "rawType": "object",
         "type": "string"
        },
        {
         "name": "1",
         "rawType": "float64",
         "type": "float"
        }
       ],
       "ref": "10201ad0-3233-4e5a-9bce-8ad2f55a0d25",
       "rows": [
        [
         "Determination R^2",
         "0.8441170013044068"
        ],
        [
         "Correlation r",
         "0.9188358148708086"
        ],
        [
         "RMSE",
         "0.044404958483031165"
        ],
        [
         "MAE",
         "0.028788129427492953"
        ],
        [
         "Intercept",
         "0.12435132806077409"
        ],
        [
         "co_coef",
         "0.0017895577844752116"
        ],
        [
         "temp_coef",
         "-0.002964065315777588"
        ],
        [
         "rh_coef",
         "-0.0003357486837544614"
        ],
        [
         "n",
         "3512.0"
        ]
       ],
       "shape": {
        "columns": 1,
        "rows": 9
       }
      },
      "text/html": [
       "<div>\n",
       "<style scoped>\n",
       "    .dataframe tbody tr th:only-of-type {\n",
       "        vertical-align: middle;\n",
       "    }\n",
       "\n",
       "    .dataframe tbody tr th {\n",
       "        vertical-align: top;\n",
       "    }\n",
       "\n",
       "    .dataframe thead th {\n",
       "        text-align: right;\n",
       "    }\n",
       "</style>\n",
       "<table border=\"1\" class=\"dataframe\">\n",
       "  <thead>\n",
       "    <tr style=\"text-align: right;\">\n",
       "      <th></th>\n",
       "      <th>1</th>\n",
       "    </tr>\n",
       "  </thead>\n",
       "  <tbody>\n",
       "    <tr>\n",
       "      <th>Determination R^2</th>\n",
       "      <td>0.844117</td>\n",
       "    </tr>\n",
       "    <tr>\n",
       "      <th>Correlation r</th>\n",
       "      <td>0.918836</td>\n",
       "    </tr>\n",
       "    <tr>\n",
       "      <th>RMSE</th>\n",
       "      <td>0.044405</td>\n",
       "    </tr>\n",
       "    <tr>\n",
       "      <th>MAE</th>\n",
       "      <td>0.028788</td>\n",
       "    </tr>\n",
       "    <tr>\n",
       "      <th>Intercept</th>\n",
       "      <td>0.124351</td>\n",
       "    </tr>\n",
       "    <tr>\n",
       "      <th>co_coef</th>\n",
       "      <td>0.001790</td>\n",
       "    </tr>\n",
       "    <tr>\n",
       "      <th>temp_coef</th>\n",
       "      <td>-0.002964</td>\n",
       "    </tr>\n",
       "    <tr>\n",
       "      <th>rh_coef</th>\n",
       "      <td>-0.000336</td>\n",
       "    </tr>\n",
       "    <tr>\n",
       "      <th>n</th>\n",
       "      <td>3512.000000</td>\n",
       "    </tr>\n",
       "  </tbody>\n",
       "</table>\n",
       "</div>"
      ],
      "text/plain": [
       "                             1\n",
       "Determination R^2     0.844117\n",
       "Correlation r         0.918836\n",
       "RMSE                  0.044405\n",
       "MAE                   0.028788\n",
       "Intercept             0.124351\n",
       "co_coef               0.001790\n",
       "temp_coef            -0.002964\n",
       "rh_coef              -0.000336\n",
       "n                  3512.000000"
      ]
     },
     "metadata": {},
     "output_type": "display_data"
    }
   ],
   "source": [
    "import matplotlib.pyplot as plt\n",
    "from sklearn.metrics import r2_score, mean_absolute_error\n",
    "plot = plt.scatter(y_pred, y_test - y_pred)\n",
    "# xmin, xmax = plt.xlim()\n",
    "# plt.plot([xmin, xmax],[0,0],color='red',linestyle='--')\n",
    "plt.axhline(y=0, color='red', linestyle='--')\n",
    "statistics = []\n",
    "statistics = {\n",
    "    \"Determination R^2\" : r2_score(y_test, y_pred),\n",
    "    \"Correlation r\" : np.corrcoef(y_test, y_pred)[0,1], \n",
    "    \"RMSE\" : np.sqrt(np.mean((y_test-y_pred)**2)), \n",
    "    \"MAE\" : mean_absolute_error(y_test, y_pred), \n",
    "    \"Intercept\" : model.intercept_,\n",
    "    \"co_coef\" : model.coef_[0],\n",
    "    \"temp_coef\" : model.coef_[1],\n",
    "    \"rh_coef\" : model.coef_[2], \n",
    "    'n' : len(y_test) \n",
    "}\n",
    "plt.title(f\"Myron: BEACO2N vs. RIDEM Residual\\nR^2={statistics['Determination R^2']:.4f}, MAE={statistics['MAE']:.4f}\")\n",
    "plt.xlabel(\"y_predicted (ppm)\\n[Corrected BEACO2N data]\")\n",
    "plt.ylabel(\"y_predicted — y_actual (ppm)\")\n",
    "plt.show()\n",
    "display(pd.DataFrame(statistics, index=[1]).T)"
   ]
  },
  {
   "cell_type": "code",
   "execution_count": null,
   "id": "dfe4f31f",
   "metadata": {},
   "outputs": [
    {
     "data": {
      "application/vnd.microsoft.datawrangler.viewer.v0+json": {
       "columns": [
        {
         "name": "timestamp",
         "rawType": "datetime64[ns, UTC]",
         "type": "unknown"
        },
        {
         "name": "co_aqs",
         "rawType": "float64",
         "type": "float"
        }
       ],
       "ref": "5ed7e50f-36ff-4b77-861b-831f000a8182",
       "rows": [
        [
         "2022-07-12 02:00:00+00:00",
         "-0.10987303958899272"
        ],
        [
         "2022-07-12 04:00:00+00:00",
         "-0.08884504683944482"
        ],
        [
         "2022-07-12 06:00:00+00:00",
         "-0.013897436882998437"
        ],
        [
         "2022-07-12 19:00:00+00:00",
         "-0.010369099767238099"
        ],
        [
         "2022-07-12 20:00:00+00:00",
         "0.011043649483584883"
        ],
        [
         "2022-07-12 21:00:00+00:00",
         "-0.013527841457431994"
        ],
        [
         "2022-07-13 01:00:00+00:00",
         "-0.08732161568794358"
        ],
        [
         "2022-07-13 03:00:00+00:00",
         "-0.10035208319421204"
        ],
        [
         "2022-07-13 06:00:00+00:00",
         "-0.012322975007337228"
        ],
        [
         "2022-07-13 08:00:00+00:00",
         "-0.04464700570695747"
        ],
        [
         "2022-07-13 09:00:00+00:00",
         "-0.12522749076249323"
        ],
        [
         "2022-07-13 10:00:00+00:00",
         "-0.11223007186648318"
        ],
        [
         "2022-07-13 12:00:00+00:00",
         "0.18903287884624742"
        ],
        [
         "2022-07-13 14:00:00+00:00",
         "0.21295063644941384"
        ],
        [
         "2022-07-13 20:00:00+00:00",
         "0.1089900614661573"
        ],
        [
         "2022-07-14 06:00:00+00:00",
         "0.056510143925500356"
        ],
        [
         "2022-07-15 00:00:00+00:00",
         "-0.05681315621553229"
        ],
        [
         "2022-07-15 10:00:00+00:00",
         "0.027161666492337033"
        ],
        [
         "2022-07-15 14:00:00+00:00",
         "0.13319098215945546"
        ],
        [
         "2022-07-15 18:00:00+00:00",
         "0.10425586118093276"
        ],
        [
         "2022-07-15 23:00:00+00:00",
         "-0.07235936476615146"
        ],
        [
         "2022-07-16 15:00:00+00:00",
         "0.006882668066351252"
        ],
        [
         "2022-07-16 17:00:00+00:00",
         "0.07525916690747447"
        ],
        [
         "2022-07-16 18:00:00+00:00",
         "-0.039406724796410504"
        ],
        [
         "2022-07-16 20:00:00+00:00",
         "-0.11486426623056578"
        ],
        [
         "2022-07-16 21:00:00+00:00",
         "-0.17786719874531504"
        ],
        [
         "2022-07-16 22:00:00+00:00",
         "-0.20520025432226946"
        ],
        [
         "2022-07-17 05:00:00+00:00",
         "0.007467509678742906"
        ],
        [
         "2022-07-17 06:00:00+00:00",
         "0.026047070129064154"
        ],
        [
         "2022-07-17 10:00:00+00:00",
         "-0.05764620567683039"
        ],
        [
         "2022-07-21 00:00:00+00:00",
         "-0.20657257819554528"
        ],
        [
         "2022-07-21 04:00:00+00:00",
         "-0.06517970519384281"
        ],
        [
         "2022-07-21 06:00:00+00:00",
         "-0.015280181384881075"
        ],
        [
         "2022-07-21 08:00:00+00:00",
         "-0.009529305331386295"
        ],
        [
         "2022-07-21 10:00:00+00:00",
         "-0.016876382121444572"
        ],
        [
         "2022-07-21 14:00:00+00:00",
         "0.07576166850149613"
        ],
        [
         "2022-07-21 17:00:00+00:00",
         "0.02835691905653215"
        ],
        [
         "2022-07-21 19:00:00+00:00",
         "-0.07789178328404991"
        ],
        [
         "2022-07-22 00:00:00+00:00",
         "-0.11299193563233831"
        ],
        [
         "2022-07-22 03:00:00+00:00",
         "-0.06591122144806152"
        ],
        [
         "2022-07-22 08:00:00+00:00",
         "-0.015822280899324748"
        ],
        [
         "2022-07-22 13:00:00+00:00",
         "0.16747175797450772"
        ],
        [
         "2022-07-22 15:00:00+00:00",
         "0.0821897679220101"
        ],
        [
         "2022-07-22 19:00:00+00:00",
         "-0.02394618734405987"
        ],
        [
         "2022-07-22 20:00:00+00:00",
         "-0.04225856872218817"
        ],
        [
         "2022-07-23 03:00:00+00:00",
         "-0.1061213851542307"
        ],
        [
         "2022-07-23 05:00:00+00:00",
         "-0.05622266190978617"
        ],
        [
         "2022-07-23 07:00:00+00:00",
         "-0.04312361231601128"
        ],
        [
         "2022-07-23 11:00:00+00:00",
         "-0.010316539600531721"
        ],
        [
         "2022-07-23 16:00:00+00:00",
         "0.07471631133337293"
        ]
       ],
       "shape": {
        "columns": 1,
        "rows": 3512
       }
      },
      "text/plain": [
       "timestamp\n",
       "2022-07-12 02:00:00+00:00   -0.109873\n",
       "2022-07-12 04:00:00+00:00   -0.088845\n",
       "2022-07-12 06:00:00+00:00   -0.013897\n",
       "2022-07-12 19:00:00+00:00   -0.010369\n",
       "2022-07-12 20:00:00+00:00    0.011044\n",
       "                               ...   \n",
       "2024-04-14 23:00:00+00:00   -0.011627\n",
       "2024-04-15 00:00:00+00:00   -0.002213\n",
       "2024-04-15 07:00:00+00:00    0.025737\n",
       "2024-04-15 11:00:00+00:00    0.041447\n",
       "2024-04-15 12:00:00+00:00    0.033474\n",
       "Name: co_aqs, Length: 3512, dtype: float64"
      ]
     },
     "metadata": {},
     "output_type": "display_data"
    }
   ],
   "source": [
    "pred_abs_residual = abs(y_test - y_pred)\n",
    "real_abs_residual = abs(y_test - X_test['co'])\n",
    "pred_abs_residual.sort_index(inplace=True)\n",
    "real_abs_residual.sort_index(inplace=True)\n",
    "\n",
    "# TODO: Plot residuals over time. Would expect them to increase over time with CO-B4 degredation."
   ]
  }
 ],
 "metadata": {
  "kernelspec": {
   "display_name": "Python 3",
   "language": "python",
   "name": "python3"
  },
  "language_info": {
   "codemirror_mode": {
    "name": "ipython",
    "version": 3
   },
   "file_extension": ".py",
   "mimetype": "text/x-python",
   "name": "python",
   "nbconvert_exporter": "python",
   "pygments_lexer": "ipython3",
   "version": "3.11.13"
  }
 },
 "nbformat": 4,
 "nbformat_minor": 5
}
