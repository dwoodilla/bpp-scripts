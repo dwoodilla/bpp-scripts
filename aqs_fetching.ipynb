{
 "cells": [
  {
   "cell_type": "code",
   "execution_count": 3,
   "id": "cb6c6094",
   "metadata": {},
   "outputs": [
    {
     "data": {
      "application/vnd.microsoft.datawrangler.viewer.v0+json": {
       "columns": [
        {
         "name": "index",
         "rawType": "int64",
         "type": "integer"
        }
       ],
       "ref": "ff17234d-54a1-4314-85cc-205409b1834b",
       "rows": [],
       "shape": {
        "columns": 0,
        "rows": 0
       }
      },
      "text/html": [
       "<div>\n",
       "<style scoped>\n",
       "    .dataframe tbody tr th:only-of-type {\n",
       "        vertical-align: middle;\n",
       "    }\n",
       "\n",
       "    .dataframe tbody tr th {\n",
       "        vertical-align: top;\n",
       "    }\n",
       "\n",
       "    .dataframe thead th {\n",
       "        text-align: right;\n",
       "    }\n",
       "</style>\n",
       "<table border=\"1\" class=\"dataframe\">\n",
       "  <thead>\n",
       "    <tr style=\"text-align: right;\">\n",
       "      <th></th>\n",
       "    </tr>\n",
       "  </thead>\n",
       "  <tbody>\n",
       "  </tbody>\n",
       "</table>\n",
       "</div>"
      ],
      "text/plain": [
       "Empty DataFrame\n",
       "Columns: []\n",
       "Index: []"
      ]
     },
     "metadata": {},
     "output_type": "display_data"
    }
   ],
   "source": [
    "# %pip install pyaqsapi\n",
    "# %pip install certifi\n",
    "# %pip install requests\n",
    "import pyaqsapi as aqs\n",
    "from datetime import date\n",
    "\n",
    "aqs.aqs_credentials(username='david_mike_woodilla@brown.edu', key='ochrecrane43')\n",
    "# display(aqs.bycounty.monitors(parameter='42101', bdate=date(2023,1,1), edate=date(2025,6,1), stateFIPS='44', countycode='007'))\n",
    "\n",
    "# display(aqs.bysite.sampledata(parameter='42101', bdate=date(2024,12,1), edate=date(2025,6,1), stateFIPS='44', countycode='007', sitenum='1010'))\n",
    "\n",
    "display(aqs.bycounty.monitors(bdate=date(2024,12,1), edate=date(2025,6,1), stateFIPS='44', countycode='007', parameter=\"\"))"
   ]
  }
 ],
 "metadata": {
  "kernelspec": {
   "display_name": "base",
   "language": "python",
   "name": "python3"
  },
  "language_info": {
   "codemirror_mode": {
    "name": "ipython",
    "version": 3
   },
   "file_extension": ".py",
   "mimetype": "text/x-python",
   "name": "python",
   "nbconvert_exporter": "python",
   "pygments_lexer": "ipython3",
   "version": "3.13.2"
  }
 },
 "nbformat": 4,
 "nbformat_minor": 5
}
